{
  "nbformat": 4,
  "nbformat_minor": 0,
  "metadata": {
    "colab": {
      "provenance": []
    },
    "kernelspec": {
      "name": "python3",
      "display_name": "Python 3"
    },
    "language_info": {
      "name": "python"
    }
  },
  "cells": [
    {
      "cell_type": "code",
      "execution_count": 1,
      "metadata": {
        "id": "iEWlPwk6JOxa"
      },
      "outputs": [],
      "source": [
        "!pip install -q keras"
      ]
    },
    {
      "cell_type": "code",
      "source": [
        "# install dependencies\n",
        "!pip install kaggle"
      ],
      "metadata": {
        "colab": {
          "base_uri": "https://localhost:8080/"
        },
        "id": "Y7CCJrVhJTJT",
        "outputId": "8b4821ee-08cd-4108-86df-c425b5e13fe2"
      },
      "execution_count": 2,
      "outputs": [
        {
          "output_type": "stream",
          "name": "stdout",
          "text": [
            "Looking in indexes: https://pypi.org/simple, https://us-python.pkg.dev/colab-wheels/public/simple/\n",
            "Requirement already satisfied: kaggle in /usr/local/lib/python3.7/dist-packages (1.5.12)\n",
            "Requirement already satisfied: certifi in /usr/local/lib/python3.7/dist-packages (from kaggle) (2022.9.24)\n",
            "Requirement already satisfied: python-dateutil in /usr/local/lib/python3.7/dist-packages (from kaggle) (2.8.2)\n",
            "Requirement already satisfied: six>=1.10 in /usr/local/lib/python3.7/dist-packages (from kaggle) (1.15.0)\n",
            "Requirement already satisfied: urllib3 in /usr/local/lib/python3.7/dist-packages (from kaggle) (1.24.3)\n",
            "Requirement already satisfied: tqdm in /usr/local/lib/python3.7/dist-packages (from kaggle) (4.64.1)\n",
            "Requirement already satisfied: requests in /usr/local/lib/python3.7/dist-packages (from kaggle) (2.23.0)\n",
            "Requirement already satisfied: python-slugify in /usr/local/lib/python3.7/dist-packages (from kaggle) (6.1.2)\n",
            "Requirement already satisfied: text-unidecode>=1.3 in /usr/local/lib/python3.7/dist-packages (from python-slugify->kaggle) (1.3)\n",
            "Requirement already satisfied: chardet<4,>=3.0.2 in /usr/local/lib/python3.7/dist-packages (from requests->kaggle) (3.0.4)\n",
            "Requirement already satisfied: idna<3,>=2.5 in /usr/local/lib/python3.7/dist-packages (from requests->kaggle) (2.10)\n"
          ]
        }
      ]
    },
    {
      "cell_type": "code",
      "source": [
        "import pandas as pd\n",
        "from google.colab import files\n",
        "files.upload()"
      ],
      "metadata": {
        "colab": {
          "base_uri": "https://localhost:8080/",
          "height": 1000
        },
        "id": "meBFxaFxJXHS",
        "outputId": "103770b9-7f41-4874-b68f-ee498ffa93ed"
      },
      "execution_count": 10,
      "outputs": [
        {
          "output_type": "display_data",
          "data": {
            "text/plain": [
              "<IPython.core.display.HTML object>"
            ],
            "text/html": [
              "\n",
              "     <input type=\"file\" id=\"files-3314fb1d-17ac-4607-a42c-397bf691f48a\" name=\"files[]\" multiple disabled\n",
              "        style=\"border:none\" />\n",
              "     <output id=\"result-3314fb1d-17ac-4607-a42c-397bf691f48a\">\n",
              "      Upload widget is only available when the cell has been executed in the\n",
              "      current browser session. Please rerun this cell to enable.\n",
              "      </output>\n",
              "      <script>// Copyright 2017 Google LLC\n",
              "//\n",
              "// Licensed under the Apache License, Version 2.0 (the \"License\");\n",
              "// you may not use this file except in compliance with the License.\n",
              "// You may obtain a copy of the License at\n",
              "//\n",
              "//      http://www.apache.org/licenses/LICENSE-2.0\n",
              "//\n",
              "// Unless required by applicable law or agreed to in writing, software\n",
              "// distributed under the License is distributed on an \"AS IS\" BASIS,\n",
              "// WITHOUT WARRANTIES OR CONDITIONS OF ANY KIND, either express or implied.\n",
              "// See the License for the specific language governing permissions and\n",
              "// limitations under the License.\n",
              "\n",
              "/**\n",
              " * @fileoverview Helpers for google.colab Python module.\n",
              " */\n",
              "(function(scope) {\n",
              "function span(text, styleAttributes = {}) {\n",
              "  const element = document.createElement('span');\n",
              "  element.textContent = text;\n",
              "  for (const key of Object.keys(styleAttributes)) {\n",
              "    element.style[key] = styleAttributes[key];\n",
              "  }\n",
              "  return element;\n",
              "}\n",
              "\n",
              "// Max number of bytes which will be uploaded at a time.\n",
              "const MAX_PAYLOAD_SIZE = 100 * 1024;\n",
              "\n",
              "function _uploadFiles(inputId, outputId) {\n",
              "  const steps = uploadFilesStep(inputId, outputId);\n",
              "  const outputElement = document.getElementById(outputId);\n",
              "  // Cache steps on the outputElement to make it available for the next call\n",
              "  // to uploadFilesContinue from Python.\n",
              "  outputElement.steps = steps;\n",
              "\n",
              "  return _uploadFilesContinue(outputId);\n",
              "}\n",
              "\n",
              "// This is roughly an async generator (not supported in the browser yet),\n",
              "// where there are multiple asynchronous steps and the Python side is going\n",
              "// to poll for completion of each step.\n",
              "// This uses a Promise to block the python side on completion of each step,\n",
              "// then passes the result of the previous step as the input to the next step.\n",
              "function _uploadFilesContinue(outputId) {\n",
              "  const outputElement = document.getElementById(outputId);\n",
              "  const steps = outputElement.steps;\n",
              "\n",
              "  const next = steps.next(outputElement.lastPromiseValue);\n",
              "  return Promise.resolve(next.value.promise).then((value) => {\n",
              "    // Cache the last promise value to make it available to the next\n",
              "    // step of the generator.\n",
              "    outputElement.lastPromiseValue = value;\n",
              "    return next.value.response;\n",
              "  });\n",
              "}\n",
              "\n",
              "/**\n",
              " * Generator function which is called between each async step of the upload\n",
              " * process.\n",
              " * @param {string} inputId Element ID of the input file picker element.\n",
              " * @param {string} outputId Element ID of the output display.\n",
              " * @return {!Iterable<!Object>} Iterable of next steps.\n",
              " */\n",
              "function* uploadFilesStep(inputId, outputId) {\n",
              "  const inputElement = document.getElementById(inputId);\n",
              "  inputElement.disabled = false;\n",
              "\n",
              "  const outputElement = document.getElementById(outputId);\n",
              "  outputElement.innerHTML = '';\n",
              "\n",
              "  const pickedPromise = new Promise((resolve) => {\n",
              "    inputElement.addEventListener('change', (e) => {\n",
              "      resolve(e.target.files);\n",
              "    });\n",
              "  });\n",
              "\n",
              "  const cancel = document.createElement('button');\n",
              "  inputElement.parentElement.appendChild(cancel);\n",
              "  cancel.textContent = 'Cancel upload';\n",
              "  const cancelPromise = new Promise((resolve) => {\n",
              "    cancel.onclick = () => {\n",
              "      resolve(null);\n",
              "    };\n",
              "  });\n",
              "\n",
              "  // Wait for the user to pick the files.\n",
              "  const files = yield {\n",
              "    promise: Promise.race([pickedPromise, cancelPromise]),\n",
              "    response: {\n",
              "      action: 'starting',\n",
              "    }\n",
              "  };\n",
              "\n",
              "  cancel.remove();\n",
              "\n",
              "  // Disable the input element since further picks are not allowed.\n",
              "  inputElement.disabled = true;\n",
              "\n",
              "  if (!files) {\n",
              "    return {\n",
              "      response: {\n",
              "        action: 'complete',\n",
              "      }\n",
              "    };\n",
              "  }\n",
              "\n",
              "  for (const file of files) {\n",
              "    const li = document.createElement('li');\n",
              "    li.append(span(file.name, {fontWeight: 'bold'}));\n",
              "    li.append(span(\n",
              "        `(${file.type || 'n/a'}) - ${file.size} bytes, ` +\n",
              "        `last modified: ${\n",
              "            file.lastModifiedDate ? file.lastModifiedDate.toLocaleDateString() :\n",
              "                                    'n/a'} - `));\n",
              "    const percent = span('0% done');\n",
              "    li.appendChild(percent);\n",
              "\n",
              "    outputElement.appendChild(li);\n",
              "\n",
              "    const fileDataPromise = new Promise((resolve) => {\n",
              "      const reader = new FileReader();\n",
              "      reader.onload = (e) => {\n",
              "        resolve(e.target.result);\n",
              "      };\n",
              "      reader.readAsArrayBuffer(file);\n",
              "    });\n",
              "    // Wait for the data to be ready.\n",
              "    let fileData = yield {\n",
              "      promise: fileDataPromise,\n",
              "      response: {\n",
              "        action: 'continue',\n",
              "      }\n",
              "    };\n",
              "\n",
              "    // Use a chunked sending to avoid message size limits. See b/62115660.\n",
              "    let position = 0;\n",
              "    do {\n",
              "      const length = Math.min(fileData.byteLength - position, MAX_PAYLOAD_SIZE);\n",
              "      const chunk = new Uint8Array(fileData, position, length);\n",
              "      position += length;\n",
              "\n",
              "      const base64 = btoa(String.fromCharCode.apply(null, chunk));\n",
              "      yield {\n",
              "        response: {\n",
              "          action: 'append',\n",
              "          file: file.name,\n",
              "          data: base64,\n",
              "        },\n",
              "      };\n",
              "\n",
              "      let percentDone = fileData.byteLength === 0 ?\n",
              "          100 :\n",
              "          Math.round((position / fileData.byteLength) * 100);\n",
              "      percent.textContent = `${percentDone}% done`;\n",
              "\n",
              "    } while (position < fileData.byteLength);\n",
              "  }\n",
              "\n",
              "  // All done.\n",
              "  yield {\n",
              "    response: {\n",
              "      action: 'complete',\n",
              "    }\n",
              "  };\n",
              "}\n",
              "\n",
              "scope.google = scope.google || {};\n",
              "scope.google.colab = scope.google.colab || {};\n",
              "scope.google.colab._files = {\n",
              "  _uploadFiles,\n",
              "  _uploadFilesContinue,\n",
              "};\n",
              "})(self);\n",
              "</script> "
            ]
          },
          "metadata": {}
        },
        {
          "output_type": "stream",
          "name": "stdout",
          "text": [
            "Saving fashion-mnist.ipynb to fashion-mnist.ipynb\n"
          ]
        },
        {
          "output_type": "execute_result",
          "data": {
            "text/plain": [
              "{'fashion-mnist.ipynb': b'{\"cells\":[{\"metadata\":{\"_cell_guid\":\"92c9729a-3c46-4699-b0ec-03be48bf47d9\",\"_uuid\":\"6a6a7e5ed8a96f216b9f969321b4e0948e9c0bf4\"},\"cell_type\":\"markdown\",\"source\":\"Copyright 2016 Google Inc. All Rights Reserved.\\\\n\\\\nLicensed under the Apache License, Version 2.0 (the \\\\\"License\\\\\");\\\\nyou may not use this file except in compliance with the License.\\\\nYou may obtain a copy of the License at\\\\n\\\\n    http://www.apache.org/licenses/LICENSE-2.0\\\\nUnless required by applicable law or agreed to in writing, software\\\\ndistributed under the License is distributed on an \\\\\"AS IS\\\\\" BASIS,\\\\nWITHOUT WARRANTIES OR CONDITIONS OF ANY KIND, either express or implied.\\\\nSee the License for the specific language governing permissions and\\\\nlimitations under the License.\\\\n\\\\n--------------------------------------\"},{\"metadata\":{\"_cell_guid\":\"2ec54da9-f0f4-489f-aba7-106327bca526\",\"_uuid\":\"7b46b1c4a98f3a6866514cdc1ad8be1962aef3c2\",\"trusted\":false,\"collapsed\":true},\"cell_type\":\"code\",\"source\":\"# This Python 3 environment comes with many helpful analytics libraries installed\\\\n# It is defined by the kaggle/python docker image: https://github.com/kaggle/docker-python\\\\n# For example, here\\'s several helpful packages to load in \\\\n\\\\nimport numpy as np # linear algebra\\\\nimport pandas as pd # data processing, CSV file I/O (e.g. pd.read_csv)\\\\nimport tensorflow as tf\\\\nprint(tf.__version__)\\\\n# Input data files are available in the \\\\\"../input/\\\\\" directory.\\\\n# For example, running this (by clicking run or pressing Shift+Enter) will list the files in the input directory\\\\n\\\\nfrom subprocess import check_output\\\\nprint(check_output([\\\\\"ls\\\\\", \\\\\"../input\\\\\"]).decode(\\\\\"utf8\\\\\"))\\\\n\\\\n# Any results you write to the current directory are saved as output.\",\"execution_count\":null,\"outputs\":[]},{\"metadata\":{\"_cell_guid\":\"05f005c2-bd34-4dba-888c-c7c11dba49de\",\"_uuid\":\"2872c1ebb007998aa9da8307860c77ab502e9fea\",\"trusted\":false,\"collapsed\":true},\"cell_type\":\"code\",\"source\":\"!python -V\",\"execution_count\":null,\"outputs\":[]},{\"metadata\":{\"collapsed\":true,\"_cell_guid\":\"1c396559-c5a2-4a43-b6dc-16ef84ed4803\",\"_uuid\":\"60ead1f581efa2f9c3c5af65a7050a121d0f3872\",\"trusted\":false},\"cell_type\":\"code\",\"source\":\"data_train_file = \\\\\"../input/fashion-mnist_train.csv\\\\\"\\\\ndata_test_file = \\\\\"../input/fashion-mnist_test.csv\\\\\"\\\\n\\\\ndf_train = pd.read_csv(data_train_file)\\\\ndf_test = pd.read_csv(data_test_file)\\\\n\",\"execution_count\":null,\"outputs\":[]},{\"metadata\":{\"_cell_guid\":\"6c8fa65f-169d-4deb-8873-57bd1166c9e3\",\"_uuid\":\"2ed9a06adee9538d924cf59bdacf9e8bb623dd84\",\"trusted\":false,\"collapsed\":true},\"cell_type\":\"code\",\"source\":\"df_train.head()\",\"execution_count\":null,\"outputs\":[]},{\"metadata\":{\"_cell_guid\":\"17447aad-0b25-4249-bef8-0521a8d421e5\",\"_uuid\":\"5ffb35ff071c42ab7706c3c0531c9419d64d2f19\",\"trusted\":false,\"collapsed\":true},\"cell_type\":\"code\",\"source\":\"# Select all columns but the first\\\\nfeatures = df_train[df_train.columns[1:]]\\\\nfeatures.head()\",\"execution_count\":null,\"outputs\":[]},{\"metadata\":{\"_cell_guid\":\"a1047d09-2201-4aa3-a673-c3f60c516f58\",\"_uuid\":\"cf60e44ca94f22a265e0787edfa64c3011b0e3c2\",\"trusted\":false,\"collapsed\":true},\"cell_type\":\"code\",\"source\":\"labels = df_train[\\'label\\']\\\\nlabels.describe(include=\\'all\\')\",\"execution_count\":null,\"outputs\":[]},{\"metadata\":{\"_cell_guid\":\"c383b603-4608-4095-89db-85321bf25b5d\",\"_uuid\":\"531b999f8c2bc7e2153228db3fedd2b9c66f113f\",\"trusted\":false,\"collapsed\":true},\"cell_type\":\"code\",\"source\":\"features.values.shape\",\"execution_count\":null,\"outputs\":[]},{\"metadata\":{\"collapsed\":true,\"_cell_guid\":\"9bb80dea-7622-4f68-8f14-41351fccb551\",\"_uuid\":\"a324777018bc465c12a2b75e89ea8050be20d338\",\"trusted\":false},\"cell_type\":\"code\",\"source\":\"train_input_fn = tf.estimator.inputs.numpy_input_fn(\\\\n        x={\\\\\"pixels\\\\\": features.values/255},\\\\n        y=labels,\\\\n        batch_size=100,\\\\n        num_epochs=3,\\\\n        shuffle=True)\",\"execution_count\":null,\"outputs\":[]},{\"metadata\":{\"collapsed\":true,\"_cell_guid\":\"c902b59e-7817-4656-a000-57e6089a2b30\",\"_uuid\":\"771bffa110bfa42dd1284fa6e127813180c2ee4b\",\"trusted\":false},\"cell_type\":\"code\",\"source\":\"feature_columns = [tf.feature_column.numeric_column(\\\\\"pixels\\\\\", shape=784)]\",\"execution_count\":null,\"outputs\":[]},{\"metadata\":{\"_cell_guid\":\"0046787d-b30c-4519-bcf2-9e014dcdc60c\",\"_uuid\":\"68651c1abb1a19dfbbd4b3e6bc3f97410b9bcac3\",\"trusted\":false,\"collapsed\":true},\"cell_type\":\"code\",\"source\":\"classifier = tf.estimator.LinearClassifier(\\\\n                feature_columns=feature_columns, \\\\n                n_classes=10,\\\\n                model_dir=\\\\\"./models/linear1\\\\\"\\\\n                )\",\"execution_count\":null,\"outputs\":[]},{\"metadata\":{\"scrolled\":true,\"_cell_guid\":\"2e095e2e-4a05-4b35-a2ae-3febfd19bec8\",\"_uuid\":\"cf745475dd763a8eab30c650c9a16ca93e4a9ed6\",\"trusted\":false,\"collapsed\":true},\"cell_type\":\"code\",\"source\":\"classifier.train(input_fn=train_input_fn)\\\\n\",\"execution_count\":null,\"outputs\":[]},{\"metadata\":{\"collapsed\":true,\"_cell_guid\":\"3fa6d06f-4d14-48d3-887f-831061609e15\",\"_uuid\":\"7e0352de13cded677638f7c6a9585948e6bc70fd\",\"trusted\":false},\"cell_type\":\"code\",\"source\":\"features = df_test[df_test.columns[1:]]\\\\nlabels = df_test[\\\\\"label\\\\\"]\\\\n\\\\nevaluate_input_fn = tf.estimator.inputs.numpy_input_fn(\\\\n        x={\\\\\"pixels\\\\\": features.values/255},\\\\n        y=labels,\\\\n        batch_size=100,\\\\n        num_epochs=1,\\\\n        shuffle=False)\",\"execution_count\":null,\"outputs\":[]},{\"metadata\":{\"_cell_guid\":\"5bb85588-a5f6-44ab-833a-39e812b8ce56\",\"_uuid\":\"65334346521f6f887b35272408e7fef894beb7af\",\"trusted\":false,\"collapsed\":true},\"cell_type\":\"code\",\"source\":\"classifier.evaluate(input_fn=evaluate_input_fn)[\\\\\"accuracy\\\\\"]\",\"execution_count\":null,\"outputs\":[]},{\"metadata\":{\"scrolled\":true,\"_cell_guid\":\"d751c5a1-5d21-4138-a092-df174ee0a6d4\",\"_uuid\":\"c7757277195ccb2c6a4b9d5c7cba017f3e9fe69c\",\"trusted\":false,\"collapsed\":true},\"cell_type\":\"code\",\"source\":\"# Bonus round 1: predictions\\\\nfeatures = df_test[df_test.columns[1:]]\\\\nlabels = df_test[\\\\\"label\\\\\"]\\\\n\\\\npredict_input_fn = tf.estimator.inputs.numpy_input_fn(        \\\\n        x={\\'pixels\\': features.iloc[5000:5005].values/255},\\\\n        batch_size=1,\\\\n        num_epochs=1,\\\\n        shuffle=False)\\\\npredictions = classifier.predict(input_fn=predict_input_fn)\\\\n\\\\nfor prediction in predictions:\\\\n    print(\\\\\"Predictions:    {} with probabilities {}\\\\\\\\n\\\\\".format(\\\\n        prediction[\\\\\"classes\\\\\"], prediction[\\\\\"probabilities\\\\\"]))\\\\nprint(\\'Expected answers values: \\\\\\\\n{}\\'.format(\\\\n    labels.iloc[5000:5005]))\",\"execution_count\":null,\"outputs\":[]},{\"metadata\":{\"_cell_guid\":\"7246a0ed-81b2-4e2e-ba4a-f39f942a1139\",\"_uuid\":\"f5d7b13213f2a2c69143630b16344b8566b63f0b\",\"trusted\":false,\"collapsed\":true},\"cell_type\":\"code\",\"source\":\"# Bonus round 2: visualizing our predictions\\\\n# Import, setup, and a utility for int->string class conversion\\\\nimport matplotlib.pyplot as plt\\\\n%matplotlib inline\\\\nclass_table = [\\\\n    \\\\\"T-shirt/top\\\\\",\\\\n    \\\\\"Trouser\\\\\",\\\\n    \\\\\"Pullover\\\\\",\\\\n    \\\\\"Dress\\\\\",\\\\n    \\\\\"Coat\\\\\",\\\\n    \\\\\"Sandal\\\\\",\\\\n    \\\\\"Shirt\\\\\",\\\\n    \\\\\"Sneaker\\\\\",\\\\n    \\\\\"Bag\\\\\",\\\\n    \\\\\"Ankle boot\\\\\"\\\\n]\\\\n\\\\ndef get_label_cls(label):\\\\n    \\\\\"\\\\\"\\\\\"given an int label range [0,9], return the string description of that label\\\\\"\\\\\"\\\\\"\\\\n    return class_table[label]\\\\n\\\\nget_label_cls(3)\",\"execution_count\":null,\"outputs\":[]},{\"metadata\":{\"_cell_guid\":\"cd827ae6-0b66-41b0-be61-1eef418dee1e\",\"_uuid\":\"fe9b1731d2db610bc6c4a02a43a09c39fcc85317\",\"trusted\":false,\"collapsed\":true},\"cell_type\":\"code\",\"source\":\"for i in range(5000,5005): \\\\n    sample = np.reshape(df_test[df_test.columns[1:]].iloc[i].values/255, (28,28))\\\\n    plt.figure()\\\\n    plt.title(\\\\\"labeled class {}\\\\\".format(get_label_cls(df_test[\\\\\"label\\\\\"].iloc[i])))\\\\n    plt.imshow(sample, \\'gray\\')\",\"execution_count\":null,\"outputs\":[]},{\"metadata\":{\"collapsed\":true,\"_cell_guid\":\"80ef8f79-2bd2-4f5e-a2df-818f06ab912d\",\"_uuid\":\"bacb5caccf60c491ade7c79526bc0e6e19db210e\",\"trusted\":false},\"cell_type\":\"code\",\"source\":\"DNN = tf.estimator.DNNClassifier(\\\\n                feature_columns=feature_columns, \\\\n                hidden_units=[40,30,20],\\\\n                n_classes=10,\\\\n                model_dir=\\\\\"./models/deep1\\\\\"\\\\n                )\\\\n\",\"execution_count\":null,\"outputs\":[]},{\"metadata\":{\"collapsed\":true,\"_cell_guid\":\"6abc9c34-ed2b-4080-b2b6-7b31f47e81b4\",\"_uuid\":\"6d6f68ac0f3903113b57ab36cccfbee0a91b58cb\",\"trusted\":false},\"cell_type\":\"code\",\"source\":\"DNN.train(input_fn=train_input_fn)\",\"execution_count\":null,\"outputs\":[]},{\"metadata\":{\"collapsed\":true,\"_cell_guid\":\"fcfaef66-71da-4b91-b571-15bac4c5067b\",\"_uuid\":\"b02d15d023dcf2d875fa01530debc58c84510d24\",\"trusted\":false},\"cell_type\":\"code\",\"source\":\"DNN.evaluate(input_fn=evaluate_input_fn)[\\\\\"accuracy\\\\\"]\",\"execution_count\":null,\"outputs\":[]}],\"metadata\":{\"language_info\":{\"name\":\"python\",\"version\":\"3.6.4\",\"mimetype\":\"text/x-python\",\"codemirror_mode\":{\"name\":\"ipython\",\"version\":3},\"pygments_lexer\":\"ipython3\",\"nbconvert_exporter\":\"python\",\"file_extension\":\".py\"},\"kernelspec\":{\"display_name\":\"Python 3\",\"language\":\"python\",\"name\":\"python3\"}},\"nbformat\":4,\"nbformat_minor\":1}'}"
            ]
          },
          "metadata": {},
          "execution_count": 10
        }
      ]
    },
    {
      "cell_type": "code",
      "source": [
        "!mkdir -p ~/.kaggle/\n",
        "!cp kaggle.json ~/.kaggle/\n",
        "\n",
        "#This permissions change avoids a warning on Kaggle tool startup.\n",
        "!chmod 600 ~/.kaggle/kaggle.json"
      ],
      "metadata": {
        "id": "IsX6temkJZGi"
      },
      "execution_count": 11,
      "outputs": []
    },
    {
      "cell_type": "code",
      "source": [
        "from google.colab import drive\n",
        "drive.mount('/content/drive')"
      ],
      "metadata": {
        "colab": {
          "base_uri": "https://localhost:8080/"
        },
        "id": "r8HC4UUgPGiC",
        "outputId": "ffd87c1f-0763-4b01-d5bf-1f2d191c94bd"
      },
      "execution_count": 12,
      "outputs": [
        {
          "output_type": "stream",
          "name": "stdout",
          "text": [
            "Drive already mounted at /content/drive; to attempt to forcibly remount, call drive.mount(\"/content/drive\", force_remount=True).\n"
          ]
        }
      ]
    },
    {
      "cell_type": "code",
      "source": [
        "!kaggle datasets download -d oddrationale/mnist-in-csv"
      ],
      "metadata": {
        "colab": {
          "base_uri": "https://localhost:8080/"
        },
        "id": "MdtMlDy8PJdK",
        "outputId": "10b0e45f-5353-4baa-b167-1d1a54d0e379"
      },
      "execution_count": 13,
      "outputs": [
        {
          "output_type": "stream",
          "name": "stdout",
          "text": [
            "401 - Unauthorized\n"
          ]
        }
      ]
    },
    {
      "cell_type": "code",
      "source": [
        "!unzip mnist-in-csv.zip && rm mnist-in-csv.zip"
      ],
      "metadata": {
        "colab": {
          "base_uri": "https://localhost:8080/"
        },
        "id": "R57BCgkgPRPC",
        "outputId": "62ad8660-4251-438e-89a6-06e8365fd6e1"
      },
      "execution_count": 16,
      "outputs": [
        {
          "output_type": "stream",
          "name": "stdout",
          "text": [
            "unzip:  cannot find or open mnist-in-csv.zip, mnist-in-csv.zip.zip or mnist-in-csv.zip.ZIP.\n"
          ]
        }
      ]
    },
    {
      "cell_type": "code",
      "source": [
        "df = pd.read_csv('/content/mnist_test.csv')\n",
        "df.head()"
      ],
      "metadata": {
        "colab": {
          "base_uri": "https://localhost:8080/",
          "height": 300
        },
        "id": "Enl-YVjdPi3z",
        "outputId": "f1d985e2-7b94-46f4-f76b-c3558c62e5c0"
      },
      "execution_count": 15,
      "outputs": [
        {
          "output_type": "execute_result",
          "data": {
            "text/plain": [
              "   label  1x1  1x2  1x3  1x4  1x5  1x6  1x7  1x8  1x9  ...  28x19  28x20  \\\n",
              "0      7    0    0    0    0    0    0    0    0    0  ...      0      0   \n",
              "1      2    0    0    0    0    0    0    0    0    0  ...      0      0   \n",
              "2      1    0    0    0    0    0    0    0    0    0  ...      0      0   \n",
              "3      0    0    0    0    0    0    0    0    0    0  ...      0      0   \n",
              "4      4    0    0    0    0    0    0    0    0    0  ...      0      0   \n",
              "\n",
              "   28x21  28x22  28x23  28x24  28x25  28x26  28x27  28x28  \n",
              "0      0      0      0      0      0      0      0      0  \n",
              "1      0      0      0      0      0      0      0      0  \n",
              "2      0      0      0      0      0      0      0      0  \n",
              "3      0      0      0      0      0      0      0      0  \n",
              "4      0      0      0      0      0      0      0      0  \n",
              "\n",
              "[5 rows x 785 columns]"
            ],
            "text/html": [
              "\n",
              "  <div id=\"df-4e9476fd-956c-4449-a687-54d13066fbb0\">\n",
              "    <div class=\"colab-df-container\">\n",
              "      <div>\n",
              "<style scoped>\n",
              "    .dataframe tbody tr th:only-of-type {\n",
              "        vertical-align: middle;\n",
              "    }\n",
              "\n",
              "    .dataframe tbody tr th {\n",
              "        vertical-align: top;\n",
              "    }\n",
              "\n",
              "    .dataframe thead th {\n",
              "        text-align: right;\n",
              "    }\n",
              "</style>\n",
              "<table border=\"1\" class=\"dataframe\">\n",
              "  <thead>\n",
              "    <tr style=\"text-align: right;\">\n",
              "      <th></th>\n",
              "      <th>label</th>\n",
              "      <th>1x1</th>\n",
              "      <th>1x2</th>\n",
              "      <th>1x3</th>\n",
              "      <th>1x4</th>\n",
              "      <th>1x5</th>\n",
              "      <th>1x6</th>\n",
              "      <th>1x7</th>\n",
              "      <th>1x8</th>\n",
              "      <th>1x9</th>\n",
              "      <th>...</th>\n",
              "      <th>28x19</th>\n",
              "      <th>28x20</th>\n",
              "      <th>28x21</th>\n",
              "      <th>28x22</th>\n",
              "      <th>28x23</th>\n",
              "      <th>28x24</th>\n",
              "      <th>28x25</th>\n",
              "      <th>28x26</th>\n",
              "      <th>28x27</th>\n",
              "      <th>28x28</th>\n",
              "    </tr>\n",
              "  </thead>\n",
              "  <tbody>\n",
              "    <tr>\n",
              "      <th>0</th>\n",
              "      <td>7</td>\n",
              "      <td>0</td>\n",
              "      <td>0</td>\n",
              "      <td>0</td>\n",
              "      <td>0</td>\n",
              "      <td>0</td>\n",
              "      <td>0</td>\n",
              "      <td>0</td>\n",
              "      <td>0</td>\n",
              "      <td>0</td>\n",
              "      <td>...</td>\n",
              "      <td>0</td>\n",
              "      <td>0</td>\n",
              "      <td>0</td>\n",
              "      <td>0</td>\n",
              "      <td>0</td>\n",
              "      <td>0</td>\n",
              "      <td>0</td>\n",
              "      <td>0</td>\n",
              "      <td>0</td>\n",
              "      <td>0</td>\n",
              "    </tr>\n",
              "    <tr>\n",
              "      <th>1</th>\n",
              "      <td>2</td>\n",
              "      <td>0</td>\n",
              "      <td>0</td>\n",
              "      <td>0</td>\n",
              "      <td>0</td>\n",
              "      <td>0</td>\n",
              "      <td>0</td>\n",
              "      <td>0</td>\n",
              "      <td>0</td>\n",
              "      <td>0</td>\n",
              "      <td>...</td>\n",
              "      <td>0</td>\n",
              "      <td>0</td>\n",
              "      <td>0</td>\n",
              "      <td>0</td>\n",
              "      <td>0</td>\n",
              "      <td>0</td>\n",
              "      <td>0</td>\n",
              "      <td>0</td>\n",
              "      <td>0</td>\n",
              "      <td>0</td>\n",
              "    </tr>\n",
              "    <tr>\n",
              "      <th>2</th>\n",
              "      <td>1</td>\n",
              "      <td>0</td>\n",
              "      <td>0</td>\n",
              "      <td>0</td>\n",
              "      <td>0</td>\n",
              "      <td>0</td>\n",
              "      <td>0</td>\n",
              "      <td>0</td>\n",
              "      <td>0</td>\n",
              "      <td>0</td>\n",
              "      <td>...</td>\n",
              "      <td>0</td>\n",
              "      <td>0</td>\n",
              "      <td>0</td>\n",
              "      <td>0</td>\n",
              "      <td>0</td>\n",
              "      <td>0</td>\n",
              "      <td>0</td>\n",
              "      <td>0</td>\n",
              "      <td>0</td>\n",
              "      <td>0</td>\n",
              "    </tr>\n",
              "    <tr>\n",
              "      <th>3</th>\n",
              "      <td>0</td>\n",
              "      <td>0</td>\n",
              "      <td>0</td>\n",
              "      <td>0</td>\n",
              "      <td>0</td>\n",
              "      <td>0</td>\n",
              "      <td>0</td>\n",
              "      <td>0</td>\n",
              "      <td>0</td>\n",
              "      <td>0</td>\n",
              "      <td>...</td>\n",
              "      <td>0</td>\n",
              "      <td>0</td>\n",
              "      <td>0</td>\n",
              "      <td>0</td>\n",
              "      <td>0</td>\n",
              "      <td>0</td>\n",
              "      <td>0</td>\n",
              "      <td>0</td>\n",
              "      <td>0</td>\n",
              "      <td>0</td>\n",
              "    </tr>\n",
              "    <tr>\n",
              "      <th>4</th>\n",
              "      <td>4</td>\n",
              "      <td>0</td>\n",
              "      <td>0</td>\n",
              "      <td>0</td>\n",
              "      <td>0</td>\n",
              "      <td>0</td>\n",
              "      <td>0</td>\n",
              "      <td>0</td>\n",
              "      <td>0</td>\n",
              "      <td>0</td>\n",
              "      <td>...</td>\n",
              "      <td>0</td>\n",
              "      <td>0</td>\n",
              "      <td>0</td>\n",
              "      <td>0</td>\n",
              "      <td>0</td>\n",
              "      <td>0</td>\n",
              "      <td>0</td>\n",
              "      <td>0</td>\n",
              "      <td>0</td>\n",
              "      <td>0</td>\n",
              "    </tr>\n",
              "  </tbody>\n",
              "</table>\n",
              "<p>5 rows × 785 columns</p>\n",
              "</div>\n",
              "      <button class=\"colab-df-convert\" onclick=\"convertToInteractive('df-4e9476fd-956c-4449-a687-54d13066fbb0')\"\n",
              "              title=\"Convert this dataframe to an interactive table.\"\n",
              "              style=\"display:none;\">\n",
              "        \n",
              "  <svg xmlns=\"http://www.w3.org/2000/svg\" height=\"24px\"viewBox=\"0 0 24 24\"\n",
              "       width=\"24px\">\n",
              "    <path d=\"M0 0h24v24H0V0z\" fill=\"none\"/>\n",
              "    <path d=\"M18.56 5.44l.94 2.06.94-2.06 2.06-.94-2.06-.94-.94-2.06-.94 2.06-2.06.94zm-11 1L8.5 8.5l.94-2.06 2.06-.94-2.06-.94L8.5 2.5l-.94 2.06-2.06.94zm10 10l.94 2.06.94-2.06 2.06-.94-2.06-.94-.94-2.06-.94 2.06-2.06.94z\"/><path d=\"M17.41 7.96l-1.37-1.37c-.4-.4-.92-.59-1.43-.59-.52 0-1.04.2-1.43.59L10.3 9.45l-7.72 7.72c-.78.78-.78 2.05 0 2.83L4 21.41c.39.39.9.59 1.41.59.51 0 1.02-.2 1.41-.59l7.78-7.78 2.81-2.81c.8-.78.8-2.07 0-2.86zM5.41 20L4 18.59l7.72-7.72 1.47 1.35L5.41 20z\"/>\n",
              "  </svg>\n",
              "      </button>\n",
              "      \n",
              "  <style>\n",
              "    .colab-df-container {\n",
              "      display:flex;\n",
              "      flex-wrap:wrap;\n",
              "      gap: 12px;\n",
              "    }\n",
              "\n",
              "    .colab-df-convert {\n",
              "      background-color: #E8F0FE;\n",
              "      border: none;\n",
              "      border-radius: 50%;\n",
              "      cursor: pointer;\n",
              "      display: none;\n",
              "      fill: #1967D2;\n",
              "      height: 32px;\n",
              "      padding: 0 0 0 0;\n",
              "      width: 32px;\n",
              "    }\n",
              "\n",
              "    .colab-df-convert:hover {\n",
              "      background-color: #E2EBFA;\n",
              "      box-shadow: 0px 1px 2px rgba(60, 64, 67, 0.3), 0px 1px 3px 1px rgba(60, 64, 67, 0.15);\n",
              "      fill: #174EA6;\n",
              "    }\n",
              "\n",
              "    [theme=dark] .colab-df-convert {\n",
              "      background-color: #3B4455;\n",
              "      fill: #D2E3FC;\n",
              "    }\n",
              "\n",
              "    [theme=dark] .colab-df-convert:hover {\n",
              "      background-color: #434B5C;\n",
              "      box-shadow: 0px 1px 3px 1px rgba(0, 0, 0, 0.15);\n",
              "      filter: drop-shadow(0px 1px 2px rgba(0, 0, 0, 0.3));\n",
              "      fill: #FFFFFF;\n",
              "    }\n",
              "  </style>\n",
              "\n",
              "      <script>\n",
              "        const buttonEl =\n",
              "          document.querySelector('#df-4e9476fd-956c-4449-a687-54d13066fbb0 button.colab-df-convert');\n",
              "        buttonEl.style.display =\n",
              "          google.colab.kernel.accessAllowed ? 'block' : 'none';\n",
              "\n",
              "        async function convertToInteractive(key) {\n",
              "          const element = document.querySelector('#df-4e9476fd-956c-4449-a687-54d13066fbb0');\n",
              "          const dataTable =\n",
              "            await google.colab.kernel.invokeFunction('convertToInteractive',\n",
              "                                                     [key], {});\n",
              "          if (!dataTable) return;\n",
              "\n",
              "          const docLinkHtml = 'Like what you see? Visit the ' +\n",
              "            '<a target=\"_blank\" href=https://colab.research.google.com/notebooks/data_table.ipynb>data table notebook</a>'\n",
              "            + ' to learn more about interactive tables.';\n",
              "          element.innerHTML = '';\n",
              "          dataTable['output_type'] = 'display_data';\n",
              "          await google.colab.output.renderOutput(dataTable, element);\n",
              "          const docLink = document.createElement('div');\n",
              "          docLink.innerHTML = docLinkHtml;\n",
              "          element.appendChild(docLink);\n",
              "        }\n",
              "      </script>\n",
              "    </div>\n",
              "  </div>\n",
              "  "
            ]
          },
          "metadata": {},
          "execution_count": 15
        }
      ]
    },
    {
      "cell_type": "code",
      "source": [
        "!pwd"
      ],
      "metadata": {
        "colab": {
          "base_uri": "https://localhost:8080/"
        },
        "id": "Qmz1mjb8PlRq",
        "outputId": "becc0c17-3fc4-4e15-d94c-1e76eac96475"
      },
      "execution_count": 17,
      "outputs": [
        {
          "output_type": "stream",
          "name": "stdout",
          "text": [
            "/content\n"
          ]
        }
      ]
    },
    {
      "cell_type": "code",
      "source": [
        "!mkdir my_project"
      ],
      "metadata": {
        "id": "mkUf_yRdP979"
      },
      "execution_count": 18,
      "outputs": []
    },
    {
      "cell_type": "code",
      "source": [
        "def state(b):\n",
        "  x = 5*b+4\n",
        "  print(x)"
      ],
      "metadata": {
        "id": "sjW4m1qeQAG6"
      },
      "execution_count": 19,
      "outputs": []
    },
    {
      "cell_type": "code",
      "source": [
        "state(8)"
      ],
      "metadata": {
        "colab": {
          "base_uri": "https://localhost:8080/"
        },
        "id": "0pdu2jDbQAIQ",
        "outputId": "9686216c-c20c-4d14-952c-9bc54addd0f8"
      },
      "execution_count": 20,
      "outputs": [
        {
          "output_type": "stream",
          "name": "stdout",
          "text": [
            "44\n"
          ]
        }
      ]
    },
    {
      "cell_type": "code",
      "source": [
        "cd my_project/"
      ],
      "metadata": {
        "colab": {
          "base_uri": "https://localhost:8080/"
        },
        "id": "Ue5NjQsNQEKa",
        "outputId": "cf05b5c3-cbfa-4deb-f155-5f41de2c4cd6"
      },
      "execution_count": 21,
      "outputs": [
        {
          "output_type": "stream",
          "name": "stdout",
          "text": [
            "/content/my_project\n"
          ]
        }
      ]
    },
    {
      "cell_type": "code",
      "source": [
        "from google.colab import files\n",
        "upload = files.upload()"
      ],
      "metadata": {
        "colab": {
          "base_uri": "https://localhost:8080/",
          "height": 73
        },
        "id": "E1mkCD8EQGab",
        "outputId": "51f643d4-2ada-4fa7-c891-ca56b8d22865"
      },
      "execution_count": 22,
      "outputs": [
        {
          "output_type": "display_data",
          "data": {
            "text/plain": [
              "<IPython.core.display.HTML object>"
            ],
            "text/html": [
              "\n",
              "     <input type=\"file\" id=\"files-10a8417e-24a1-4b43-b141-65419264ce91\" name=\"files[]\" multiple disabled\n",
              "        style=\"border:none\" />\n",
              "     <output id=\"result-10a8417e-24a1-4b43-b141-65419264ce91\">\n",
              "      Upload widget is only available when the cell has been executed in the\n",
              "      current browser session. Please rerun this cell to enable.\n",
              "      </output>\n",
              "      <script>// Copyright 2017 Google LLC\n",
              "//\n",
              "// Licensed under the Apache License, Version 2.0 (the \"License\");\n",
              "// you may not use this file except in compliance with the License.\n",
              "// You may obtain a copy of the License at\n",
              "//\n",
              "//      http://www.apache.org/licenses/LICENSE-2.0\n",
              "//\n",
              "// Unless required by applicable law or agreed to in writing, software\n",
              "// distributed under the License is distributed on an \"AS IS\" BASIS,\n",
              "// WITHOUT WARRANTIES OR CONDITIONS OF ANY KIND, either express or implied.\n",
              "// See the License for the specific language governing permissions and\n",
              "// limitations under the License.\n",
              "\n",
              "/**\n",
              " * @fileoverview Helpers for google.colab Python module.\n",
              " */\n",
              "(function(scope) {\n",
              "function span(text, styleAttributes = {}) {\n",
              "  const element = document.createElement('span');\n",
              "  element.textContent = text;\n",
              "  for (const key of Object.keys(styleAttributes)) {\n",
              "    element.style[key] = styleAttributes[key];\n",
              "  }\n",
              "  return element;\n",
              "}\n",
              "\n",
              "// Max number of bytes which will be uploaded at a time.\n",
              "const MAX_PAYLOAD_SIZE = 100 * 1024;\n",
              "\n",
              "function _uploadFiles(inputId, outputId) {\n",
              "  const steps = uploadFilesStep(inputId, outputId);\n",
              "  const outputElement = document.getElementById(outputId);\n",
              "  // Cache steps on the outputElement to make it available for the next call\n",
              "  // to uploadFilesContinue from Python.\n",
              "  outputElement.steps = steps;\n",
              "\n",
              "  return _uploadFilesContinue(outputId);\n",
              "}\n",
              "\n",
              "// This is roughly an async generator (not supported in the browser yet),\n",
              "// where there are multiple asynchronous steps and the Python side is going\n",
              "// to poll for completion of each step.\n",
              "// This uses a Promise to block the python side on completion of each step,\n",
              "// then passes the result of the previous step as the input to the next step.\n",
              "function _uploadFilesContinue(outputId) {\n",
              "  const outputElement = document.getElementById(outputId);\n",
              "  const steps = outputElement.steps;\n",
              "\n",
              "  const next = steps.next(outputElement.lastPromiseValue);\n",
              "  return Promise.resolve(next.value.promise).then((value) => {\n",
              "    // Cache the last promise value to make it available to the next\n",
              "    // step of the generator.\n",
              "    outputElement.lastPromiseValue = value;\n",
              "    return next.value.response;\n",
              "  });\n",
              "}\n",
              "\n",
              "/**\n",
              " * Generator function which is called between each async step of the upload\n",
              " * process.\n",
              " * @param {string} inputId Element ID of the input file picker element.\n",
              " * @param {string} outputId Element ID of the output display.\n",
              " * @return {!Iterable<!Object>} Iterable of next steps.\n",
              " */\n",
              "function* uploadFilesStep(inputId, outputId) {\n",
              "  const inputElement = document.getElementById(inputId);\n",
              "  inputElement.disabled = false;\n",
              "\n",
              "  const outputElement = document.getElementById(outputId);\n",
              "  outputElement.innerHTML = '';\n",
              "\n",
              "  const pickedPromise = new Promise((resolve) => {\n",
              "    inputElement.addEventListener('change', (e) => {\n",
              "      resolve(e.target.files);\n",
              "    });\n",
              "  });\n",
              "\n",
              "  const cancel = document.createElement('button');\n",
              "  inputElement.parentElement.appendChild(cancel);\n",
              "  cancel.textContent = 'Cancel upload';\n",
              "  const cancelPromise = new Promise((resolve) => {\n",
              "    cancel.onclick = () => {\n",
              "      resolve(null);\n",
              "    };\n",
              "  });\n",
              "\n",
              "  // Wait for the user to pick the files.\n",
              "  const files = yield {\n",
              "    promise: Promise.race([pickedPromise, cancelPromise]),\n",
              "    response: {\n",
              "      action: 'starting',\n",
              "    }\n",
              "  };\n",
              "\n",
              "  cancel.remove();\n",
              "\n",
              "  // Disable the input element since further picks are not allowed.\n",
              "  inputElement.disabled = true;\n",
              "\n",
              "  if (!files) {\n",
              "    return {\n",
              "      response: {\n",
              "        action: 'complete',\n",
              "      }\n",
              "    };\n",
              "  }\n",
              "\n",
              "  for (const file of files) {\n",
              "    const li = document.createElement('li');\n",
              "    li.append(span(file.name, {fontWeight: 'bold'}));\n",
              "    li.append(span(\n",
              "        `(${file.type || 'n/a'}) - ${file.size} bytes, ` +\n",
              "        `last modified: ${\n",
              "            file.lastModifiedDate ? file.lastModifiedDate.toLocaleDateString() :\n",
              "                                    'n/a'} - `));\n",
              "    const percent = span('0% done');\n",
              "    li.appendChild(percent);\n",
              "\n",
              "    outputElement.appendChild(li);\n",
              "\n",
              "    const fileDataPromise = new Promise((resolve) => {\n",
              "      const reader = new FileReader();\n",
              "      reader.onload = (e) => {\n",
              "        resolve(e.target.result);\n",
              "      };\n",
              "      reader.readAsArrayBuffer(file);\n",
              "    });\n",
              "    // Wait for the data to be ready.\n",
              "    let fileData = yield {\n",
              "      promise: fileDataPromise,\n",
              "      response: {\n",
              "        action: 'continue',\n",
              "      }\n",
              "    };\n",
              "\n",
              "    // Use a chunked sending to avoid message size limits. See b/62115660.\n",
              "    let position = 0;\n",
              "    do {\n",
              "      const length = Math.min(fileData.byteLength - position, MAX_PAYLOAD_SIZE);\n",
              "      const chunk = new Uint8Array(fileData, position, length);\n",
              "      position += length;\n",
              "\n",
              "      const base64 = btoa(String.fromCharCode.apply(null, chunk));\n",
              "      yield {\n",
              "        response: {\n",
              "          action: 'append',\n",
              "          file: file.name,\n",
              "          data: base64,\n",
              "        },\n",
              "      };\n",
              "\n",
              "      let percentDone = fileData.byteLength === 0 ?\n",
              "          100 :\n",
              "          Math.round((position / fileData.byteLength) * 100);\n",
              "      percent.textContent = `${percentDone}% done`;\n",
              "\n",
              "    } while (position < fileData.byteLength);\n",
              "  }\n",
              "\n",
              "  // All done.\n",
              "  yield {\n",
              "    response: {\n",
              "      action: 'complete',\n",
              "    }\n",
              "  };\n",
              "}\n",
              "\n",
              "scope.google = scope.google || {};\n",
              "scope.google.colab = scope.google.colab || {};\n",
              "scope.google.colab._files = {\n",
              "  _uploadFiles,\n",
              "  _uploadFilesContinue,\n",
              "};\n",
              "})(self);\n",
              "</script> "
            ]
          },
          "metadata": {}
        },
        {
          "output_type": "stream",
          "name": "stdout",
          "text": [
            "Saving mnist_test.csv to mnist_test.csv\n"
          ]
        }
      ]
    }
  ]
}